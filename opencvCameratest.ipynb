{
 "cells": [
  {
   "cell_type": "markdown",
   "metadata": {},
   "source": [
    "Interactive OpenCV using jupyter"
   ]
  },
  {
   "cell_type": "code",
   "execution_count": 1,
   "metadata": {},
   "outputs": [],
   "source": [
    "%matplotlib inline\n",
    "from matplotlib import pyplot as plt\n",
    "import cv2 as cv\n"
   ]
  },
  {
   "cell_type": "code",
   "execution_count": 19,
   "metadata": {},
   "outputs": [],
   "source": [
    "capture = cv.VideoCapture(0)\n",
    "capture.set(cv.CAP_PROP_FRAME_WIDTH, 640)\n",
    "capture.set(cv.CAP_PROP_FRAME_HEIGHT, 480)\n",
    "\n",
    "while True:\n",
    "\n",
    "    ret, frame = capture.read()\n",
    "\n",
    "    if ret == True:\n",
    "\n",
    "        gray = cv.cvtColor(frame, cv.COLOR_RGB2GRAY)\n",
    "        \n",
    "        cv.imshow('frame',frame)\n",
    "       # cv.imshow('gray',gray)\n",
    "        \n",
    "        if cv.waitKey(30) & 0xFF == ord('q'):\n",
    "            break\n",
    "\n",
    "    else:\n",
    "        break\n",
    "capture.release()\n",
    "cv.destroyAllWindows()"
   ]
  },
  {
   "cell_type": "code",
   "execution_count": 4,
   "metadata": {},
   "outputs": [
    {
     "data": {
      "text/plain": [
       "NoneType"
      ]
     },
     "execution_count": 4,
     "metadata": {},
     "output_type": "execute_result"
    }
   ],
   "source": [
    "type(frame)"
   ]
  },
  {
   "cell_type": "code",
   "execution_count": 4,
   "metadata": {},
   "outputs": [],
   "source": [
    "capture.release()\n",
    "cv.destroyAllWindows()"
   ]
  },
  {
   "cell_type": "code",
   "execution_count": null,
   "metadata": {},
   "outputs": [],
   "source": []
  },
  {
   "cell_type": "code",
   "execution_count": 11,
   "metadata": {},
   "outputs": [
    {
     "name": "stdout",
     "output_type": "stream",
     "text": [
      "False\n"
     ]
    }
   ],
   "source": [
    "import numpy,cv2\n",
    "cap = cv.VideoCapture('udp://0.0.0.0:11111')\n",
    "print (cap.isOpened())"
   ]
  },
  {
   "cell_type": "code",
   "execution_count": 10,
   "metadata": {},
   "outputs": [
    {
     "name": "stdout",
     "output_type": "stream",
     "text": [
      "Help on class VideoCapture in module cv2:\n",
      "\n",
      "class VideoCapture(builtins.object)\n",
      " |  Methods defined here:\n",
      " |  \n",
      " |  __init__(self, /, *args, **kwargs)\n",
      " |      Initialize self.  See help(type(self)) for accurate signature.\n",
      " |  \n",
      " |  __new__(*args, **kwargs) from builtins.type\n",
      " |      Create and return a new object.  See help(type) for accurate signature.\n",
      " |  \n",
      " |  __repr__(self, /)\n",
      " |      Return repr(self).\n",
      " |  \n",
      " |  get(...)\n",
      " |      get(propId) -> retval\n",
      " |      .   @brief Returns the specified VideoCapture property\n",
      " |      .   \n",
      " |      .   @param propId Property identifier from cv::VideoCaptureProperties (eg. cv::CAP_PROP_POS_MSEC, cv::CAP_PROP_POS_FRAMES, ...)\n",
      " |      .   or one from @ref videoio_flags_others\n",
      " |      .   @return Value for the specified property. Value 0 is returned when querying a property that is\n",
      " |      .   not supported by the backend used by the VideoCapture instance.\n",
      " |      .   \n",
      " |      .   @note Reading / writing properties involves many layers. Some unexpected result might happens\n",
      " |      .   along this chain.\n",
      " |      .   @code {.txt}\n",
      " |      .   `VideoCapture -> API Backend -> Operating System -> Device Driver -> Device Hardware`\n",
      " |      .   @endcode\n",
      " |      .   The returned value might be different from what really used by the device or it could be encoded\n",
      " |      .   using device dependent rules (eg. steps or percentage). Effective behaviour depends from device\n",
      " |      .   driver and API Backend\n",
      " |  \n",
      " |  grab(...)\n",
      " |      grab() -> retval\n",
      " |      .   @brief Grabs the next frame from video file or capturing device.\n",
      " |      .   \n",
      " |      .   @return `true` (non-zero) in the case of success.\n",
      " |      .   \n",
      " |      .   The method/function grabs the next frame from video file or camera and returns true (non-zero) in\n",
      " |      .   the case of success.\n",
      " |      .   \n",
      " |      .   The primary use of the function is in multi-camera environments, especially when the cameras do not\n",
      " |      .   have hardware synchronization. That is, you call VideoCapture::grab() for each camera and after that\n",
      " |      .   call the slower method VideoCapture::retrieve() to decode and get frame from each camera. This way\n",
      " |      .   the overhead on demosaicing or motion jpeg decompression etc. is eliminated and the retrieved frames\n",
      " |      .   from different cameras will be closer in time.\n",
      " |      .   \n",
      " |      .   Also, when a connected camera is multi-head (for example, a stereo camera or a Kinect device), the\n",
      " |      .   correct way of retrieving data from it is to call VideoCapture::grab() first and then call\n",
      " |      .   VideoCapture::retrieve() one or more times with different values of the channel parameter.\n",
      " |      .   \n",
      " |      .   @ref tutorial_kinect_openni\n",
      " |  \n",
      " |  isOpened(...)\n",
      " |      isOpened() -> retval\n",
      " |      .   @brief Returns true if video capturing has been initialized already.\n",
      " |      .   \n",
      " |      .   If the previous call to VideoCapture constructor or VideoCapture::open() succeeded, the method returns\n",
      " |      .   true.\n",
      " |  \n",
      " |  open(...)\n",
      " |      open(filename) -> retval\n",
      " |      .   @brief  Open video file or a capturing device or a IP video stream for video capturing\n",
      " |      .   \n",
      " |      .   @overload\n",
      " |      .   \n",
      " |      .   Parameters are same as the constructor VideoCapture(const String& filename)\n",
      " |      .   @return `true` if the file has been successfully opened\n",
      " |      .   \n",
      " |      .   The method first calls VideoCapture::release to close the already opened file or camera.\n",
      " |      \n",
      " |      \n",
      " |      \n",
      " |      open(index) -> retval\n",
      " |      .   @brief  Open a camera for video capturing\n",
      " |      .   \n",
      " |      .   @overload\n",
      " |      .   \n",
      " |      .   Parameters are same as the constructor VideoCapture(int index)\n",
      " |      .   @return `true` if the camera has been successfully opened.\n",
      " |      .   \n",
      " |      .   The method first calls VideoCapture::release to close the already opened file or camera.\n",
      " |      \n",
      " |      \n",
      " |      \n",
      " |      open(cameraNum, apiPreference) -> retval\n",
      " |      .   @brief  Open a camera for video capturing\n",
      " |      .   \n",
      " |      .   @overload\n",
      " |      .   \n",
      " |      .   Parameters are similar as the constructor VideoCapture(int index),except it takes an additional argument apiPreference.\n",
      " |      .   Definitely, is same as open(int index) where `index=cameraNum + apiPreference`\n",
      " |      .   @return `true` if the camera has been successfully opened.\n",
      " |      \n",
      " |      \n",
      " |      \n",
      " |      open(filename, apiPreference) -> retval\n",
      " |      .   @brief Open video file or a capturing device or a IP video stream for video capturing with API Preference\n",
      " |      .   \n",
      " |      .   @overload\n",
      " |      .   \n",
      " |      .   Parameters are same as the constructor VideoCapture(const String& filename, int apiPreference)\n",
      " |      .   @return `true` if the file has been successfully opened\n",
      " |      .   \n",
      " |      .   The method first calls VideoCapture::release to close the already opened file or camera.\n",
      " |  \n",
      " |  read(...)\n",
      " |      read([, image]) -> retval, image\n",
      " |      .   @brief Grabs, decodes and returns the next video frame.\n",
      " |      .   \n",
      " |      .   @param [out] image the video frame is returned here. If no frames has been grabbed the image will be empty.\n",
      " |      .   @return `false` if no frames has been grabbed\n",
      " |      .   \n",
      " |      .   The method/function combines VideoCapture::grab() and VideoCapture::retrieve() in one call. This is the\n",
      " |      .   most convenient method for reading video files or capturing data from decode and returns the just\n",
      " |      .   grabbed frame. If no frames has been grabbed (camera has been disconnected, or there are no more\n",
      " |      .   frames in video file), the method returns false and the function returns empty image (with %cv::Mat, test it with Mat::empty()).\n",
      " |      .   \n",
      " |      .   @note In @ref videoio_c \"C API\", functions cvRetrieveFrame() and cv.RetrieveFrame() return image stored inside the video\n",
      " |      .   capturing structure. It is not allowed to modify or release the image! You can copy the frame using\n",
      " |      .   :ocvcvCloneImage and then do whatever you want with the copy.\n",
      " |  \n",
      " |  release(...)\n",
      " |      release() -> None\n",
      " |      .   @brief Closes video file or capturing device.\n",
      " |      .   \n",
      " |      .   The method is automatically called by subsequent VideoCapture::open and by VideoCapture\n",
      " |      .   destructor.\n",
      " |      .   \n",
      " |      .   The C function also deallocates memory and clears \\*capture pointer.\n",
      " |  \n",
      " |  retrieve(...)\n",
      " |      retrieve([, image[, flag]]) -> retval, image\n",
      " |      .   @brief Decodes and returns the grabbed video frame.\n",
      " |      .   \n",
      " |      .   @param [out] image the video frame is returned here. If no frames has been grabbed the image will be empty.\n",
      " |      .   @param flag it could be a frame index or a driver specific flag\n",
      " |      .   @return `false` if no frames has been grabbed\n",
      " |      .   \n",
      " |      .   The method decodes and returns the just grabbed frame. If no frames has been grabbed\n",
      " |      .   (camera has been disconnected, or there are no more frames in video file), the method returns false\n",
      " |      .   and the function returns an empty image (with %cv::Mat, test it with Mat::empty()).\n",
      " |      .   \n",
      " |      .   @sa read()\n",
      " |      .   \n",
      " |      .   @note In @ref videoio_c \"C API\", functions cvRetrieveFrame() and cv.RetrieveFrame() return image stored inside the video\n",
      " |      .   capturing structure. It is not allowed to modify or release the image! You can copy the frame using\n",
      " |      .   :ocvcvCloneImage and then do whatever you want with the copy.\n",
      " |  \n",
      " |  set(...)\n",
      " |      set(propId, value) -> retval\n",
      " |      .   @brief Sets a property in the VideoCapture.\n",
      " |      .   \n",
      " |      .   @param propId Property identifier from cv::VideoCaptureProperties (eg. cv::CAP_PROP_POS_MSEC, cv::CAP_PROP_POS_FRAMES, ...)\n",
      " |      .   or one from @ref videoio_flags_others\n",
      " |      .   @param value Value of the property.\n",
      " |      .   @return `true` if the property is supported by backend used by the VideoCapture instance.\n",
      " |      .   @note Even if it returns `true` this doesn't ensure that the property\n",
      " |      .   value has been accepted by the capture device. See note in VideoCapture::get()\n",
      "\n"
     ]
    }
   ],
   "source": [
    "help(cv.VideoCapture)"
   ]
  },
  {
   "cell_type": "code",
   "execution_count": null,
   "metadata": {},
   "outputs": [],
   "source": []
  }
 ],
 "metadata": {
  "kernelspec": {
   "display_name": "Python 3",
   "language": "python",
   "name": "python3"
  },
  "language_info": {
   "codemirror_mode": {
    "name": "ipython",
    "version": 3
   },
   "file_extension": ".py",
   "mimetype": "text/x-python",
   "name": "python",
   "nbconvert_exporter": "python",
   "pygments_lexer": "ipython3",
   "version": "3.5.3"
  }
 },
 "nbformat": 4,
 "nbformat_minor": 2
}
