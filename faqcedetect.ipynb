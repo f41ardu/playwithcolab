{
 "cells": [
  {
   "cell_type": "markdown",
   "metadata": {},
   "source": [
    "Interactive OpenCV using jupyter"
   ]
  },
  {
   "cell_type": "code",
   "execution_count": 32,
   "metadata": {},
   "outputs": [],
   "source": [
    "%matplotlib inline\n",
    "from matplotlib import pyplot as plt\n",
    "import cv2 as cv\n",
    "# Create the haar cascade\n",
    "faceCascade = cv.CascadeClassifier(\"/home/pi/sketchbook/libraries/opencv_processing/library/cascade-files/haarcascade_frontalface_default.xml\")\n",
    "\n",
    "#                           /home/pi/opencv-3.4.1/data/haarcascades/haarcascade_frontalface_default.xml\")\n",
    "#print(faceCascade)\n",
    "def detect(img, cascade):\n",
    "    rects = cascade.detectMultiScale(img, scaleFactor=1.3, minNeighbors=4, minSize=(30, 30),flags=cv.CASCADE_SCALE_IMAGE)\n",
    "    if len(rects) == 0:\n",
    "        return []\n",
    "    rects[:,2:] += rects[:,:2]\n",
    "    return rects\n",
    "\n",
    "def draw_rects(img, rects, color):\n",
    "    for x1, y1, x2, y2 in rects:\n",
    "        cv.rectangle(img, (x1, y1), (x2, y2), color, 2)\n"
   ]
  },
  {
   "cell_type": "code",
   "execution_count": 33,
   "metadata": {},
   "outputs": [],
   "source": [
    "capture = cv.VideoCapture(0)\n",
    "capture.set(cv.CAP_PROP_FRAME_WIDTH, 320)\n",
    "capture.set(cv.CAP_PROP_FRAME_HEIGHT, 240)\n",
    "\n",
    "while True:\n",
    "\n",
    "    ret, frame = capture.read()\n",
    "\n",
    "    if ret == True:\n",
    "        \n",
    "        gray = cv.cvtColor(frame, cv.COLOR_RGB2GRAY)\n",
    "        gray = cv.equalizeHist(gray)\n",
    "        rects = detect(gray, faceCascade)\n",
    "        draw_rects(frame, rects, (0, 255, 0))\n",
    "        \n",
    "        cv.imshow('frame',frame)\n",
    "        #cv.imshow('gray',gray)\n",
    "        \n",
    "        if cv.waitKey(30) & 0xFF == ord('q'):\n",
    "            break\n",
    "\n",
    "    else:\n",
    "        break\n",
    "capture.release()\n",
    "cv.destroyAllWindows()"
   ]
  },
  {
   "cell_type": "code",
   "execution_count": null,
   "metadata": {},
   "outputs": [],
   "source": []
  },
  {
   "cell_type": "code",
   "execution_count": null,
   "metadata": {},
   "outputs": [],
   "source": []
  }
 ],
 "metadata": {
  "kernelspec": {
   "display_name": "Python 3",
   "language": "python",
   "name": "python3"
  },
  "language_info": {
   "codemirror_mode": {
    "name": "ipython",
    "version": 3
   },
   "file_extension": ".py",
   "mimetype": "text/x-python",
   "name": "python",
   "nbconvert_exporter": "python",
   "pygments_lexer": "ipython3",
   "version": "3.5.3"
  }
 },
 "nbformat": 4,
 "nbformat_minor": 2
}
