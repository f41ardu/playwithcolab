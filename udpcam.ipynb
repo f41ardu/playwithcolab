{
 "cells": [
  {
   "cell_type": "code",
   "execution_count": null,
   "metadata": {},
   "outputs": [],
   "source": [
    "import socket\n",
    "import numpy as np\n",
    "import cv2 as cv\n",
    "\n",
    "\n",
    "addr = (\"127.0.0.1\", 65534)\n",
    "buf = 512\n",
    "width = 640\n",
    "height = 480\n",
    "code = b'start'\n",
    "num_of_chunks = width * height * 3 / buf\n",
    "\n",
    "if __name__ == '__main__':\n",
    "    s = socket.socket(socket.AF_INET, socket.SOCK_DGRAM)\n",
    "    s.bind(addr)\n",
    "    while True:\n",
    "        chunks = []\n",
    "        start = False\n",
    "        while len(chunks) < num_of_chunks:\n",
    "            chunk, _ = s.recvfrom(buf)\n",
    "            if start:\n",
    "                chunks.append(chunk)\n",
    "            elif chunk.startswith(code):\n",
    "                start = True\n",
    "\n",
    "        byte_frame = b''.join(chunks)\n",
    "\n",
    "        frame = np.frombuffer(\n",
    "            byte_frame, dtype=np.uint8).reshape(height, width, 3)\n",
    "\n",
    "        cv.imshow('recv', frame)\n",
    "        if cv.waitKey(1) & 0xFF == ord('q'):\n",
    "            break\n",
    "\n",
    "    s.close()\n"
   ]
  },
  {
   "cell_type": "code",
   "execution_count": null,
   "metadata": {},
   "outputs": [],
   "source": []
  }
 ],
 "metadata": {
  "kernelspec": {
   "display_name": "Python 3",
   "language": "python",
   "name": "python3"
  },
  "language_info": {
   "codemirror_mode": {
    "name": "ipython",
    "version": 3
   },
   "file_extension": ".py",
   "mimetype": "text/x-python",
   "name": "python",
   "nbconvert_exporter": "python",
   "pygments_lexer": "ipython3",
   "version": "3.5.3"
  }
 },
 "nbformat": 4,
 "nbformat_minor": 2
}
